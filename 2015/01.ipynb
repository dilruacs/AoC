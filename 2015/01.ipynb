{
 "cells": [
  {
   "cell_type": "code",
   "execution_count": null,
   "metadata": {},
   "outputs": [],
   "source": [
    "import time\n",
    "from aocd.models import Puzzle\n",
    "from aocd import submit\n",
    "\n",
    "puzzle=Puzzle(year=2015, day=1)"
   ]
  },
  {
   "cell_type": "code",
   "execution_count": null,
   "metadata": {},
   "outputs": [],
   "source": [
    "floor=0\n",
    "for i in range(len(puzzle.input_data)):\n",
    "    floor = floor + (1 if puzzle.input_data[i]=='(' else -1)\n",
    "print(floor)"
   ]
  },
  {
   "cell_type": "code",
   "execution_count": null,
   "metadata": {},
   "outputs": [],
   "source": [
    "floor=0\n",
    "for i in range(len(puzzle.input_data)):\n",
    "    floor = floor + (1 if puzzle.input_data[i]=='(' else -1)\n",
    "    if floor < 0:\n",
    "        print(i+1)\n",
    "        break"
   ]
  }
 ],
 "metadata": {
  "kernelspec": {
   "display_name": "Python 3",
   "language": "python",
   "name": "python3"
  },
  "language_info": {
   "codemirror_mode": {
    "name": "ipython",
    "version": 3
   },
   "file_extension": ".py",
   "mimetype": "text/x-python",
   "name": "python",
   "nbconvert_exporter": "python",
   "pygments_lexer": "ipython3",
   "version": "3.8.6"
  }
 },
 "nbformat": 4,
 "nbformat_minor": 4
}
