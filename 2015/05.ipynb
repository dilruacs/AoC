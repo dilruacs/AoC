{
 "cells": [
  {
   "cell_type": "code",
   "execution_count": null,
   "metadata": {},
   "outputs": [],
   "source": [
    "import time\n",
    "from aocd.models import Puzzle\n",
    "from aocd import submit\n",
    "import re\n",
    "\n",
    "puzzle=Puzzle(year=2015, day=5)"
   ]
  },
  {
   "cell_type": "code",
   "execution_count": null,
   "metadata": {},
   "outputs": [],
   "source": [
    "example_ = \"\"\"\n",
    "ugknbfddgicrmopn\n",
    "aaa\n",
    "jchzalrnumimnmhp\n",
    "haegwjzuvuyypxyu\n",
    "dvszwmarrgswjxmb\n",
    "\"\"\""
   ]
  },
  {
   "cell_type": "code",
   "execution_count": null,
   "metadata": {},
   "outputs": [],
   "source": [
    "example_ = \"\"\"\n",
    "qjhvhtzxzqqjkmpb\n",
    "xxyxx\n",
    "uurcxstgmygtbstg\n",
    "ieodomkazucvgmuy\n",
    "\"\"\""
   ]
  },
  {
   "cell_type": "code",
   "execution_count": null,
   "metadata": {},
   "outputs": [],
   "source": [
    "three_vowels = lambda x : re.search(r'([aeiou].*){3}', x)\n",
    "double_letter = lambda x : re.search(r'(.)\\1+', x)\n",
    "filter_bl = lambda x : re.search(r'(ab|cd|pq|xy)', x)"
   ]
  },
  {
   "cell_type": "code",
   "execution_count": null,
   "metadata": {},
   "outputs": [],
   "source": [
    "solution = 0\n",
    "for i in puzzle.input_data.strip().split():\n",
    "    if three_vowels(i) and double_letter(i) and not filter_bl(i):\n",
    "        solution += 1\n",
    "print(solution)"
   ]
  },
  {
   "cell_type": "code",
   "execution_count": null,
   "metadata": {},
   "outputs": [],
   "source": [
    "repeat_two = lambda x : re.search(r'(\\w{2}).*\\1+', x)\n",
    "repeat_between = lambda x : re.search(r'(.).\\1', x)"
   ]
  },
  {
   "cell_type": "code",
   "execution_count": null,
   "metadata": {},
   "outputs": [],
   "source": [
    "solution = 0\n",
    "for i in puzzle.input_data.strip().split():\n",
    "    if repeat_two(i) and repeat_between(i):\n",
    "        solution +=1\n",
    "print(solution)"
   ]
  }
 ],
 "metadata": {
  "kernelspec": {
   "display_name": "Python 3",
   "language": "python",
   "name": "python3"
  },
  "language_info": {
   "codemirror_mode": {
    "name": "ipython",
    "version": 3
   },
   "file_extension": ".py",
   "mimetype": "text/x-python",
   "name": "python",
   "nbconvert_exporter": "python",
   "pygments_lexer": "ipython3",
   "version": "3.8.6"
  }
 },
 "nbformat": 4,
 "nbformat_minor": 4
}
