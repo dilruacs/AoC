{
 "cells": [
  {
   "cell_type": "code",
   "execution_count": null,
   "metadata": {},
   "outputs": [],
   "source": [
    "import time\n",
    "from aocd.models import Puzzle\n",
    "from aocd import submit\n",
    "\n",
    "puzzle=Puzzle(year=2015, day=6)\n",
    "\n",
    "from array import *"
   ]
  },
  {
   "cell_type": "code",
   "execution_count": null,
   "metadata": {},
   "outputs": [],
   "source": [
    "example_ = \"\"\"\n",
    "turn on 0,0 through 999,999\n",
    "toggle 0,0 through 999,0\n",
    "turn off 499,499 through 500,500\n",
    "\"\"\""
   ]
  },
  {
   "cell_type": "code",
   "execution_count": null,
   "metadata": {},
   "outputs": [],
   "source": [
    "def turn_on(a, f, t):\n",
    "    mask = int(\"0b\"+\"1\"*((t[1]-f[1])+1),2) << f[1]\n",
    "    for row in range(f[0],t[0]+1):\n",
    "        if row in a:\n",
    "            a[row] |= mask\n",
    "        else:\n",
    "            a[row] = mask\n",
    "    return a"
   ]
  },
  {
   "cell_type": "code",
   "execution_count": null,
   "metadata": {},
   "outputs": [],
   "source": [
    "def turn_off(a, f, t):\n",
    "    mask = (int(\"0b\"+\"1\"*((t[1]-f[1])+1),2) << f[1]) ^ (1 << 1000)-1\n",
    "    for row in range(f[0],t[0]+1):\n",
    "        if row in a:\n",
    "            a[row] &= mask\n",
    "    return a"
   ]
  },
  {
   "cell_type": "code",
   "execution_count": null,
   "metadata": {},
   "outputs": [],
   "source": [
    "def toggle(a, f, t):\n",
    "    mask = int(\"0b\"+\"1\"*((t[1]-f[1])+1),2) << f[1]\n",
    "    for row in range(f[0],t[0]+1):\n",
    "        if row in a:\n",
    "            a[row] ^= mask\n",
    "        else:\n",
    "            a[row] = mask\n",
    "    return a"
   ]
  },
  {
   "cell_type": "code",
   "execution_count": null,
   "metadata": {},
   "outputs": [],
   "source": [
    "grid={}\n",
    "for i in puzzle.input_data.strip().split('\\n'):\n",
    "    ci = i.replace('turn on ','').replace('turn off ','').replace('toggle ','').replace('through ','').strip().split()\n",
    "    c = [tuple([int(x) for x in i.split(',')]) for i in ci]\n",
    "    if i.startswith('turn on'):\n",
    "        grid = turn_on(grid,c[0],c[1])\n",
    "    if i.startswith('turn off'):\n",
    "        grid = turn_off(grid,c[0],c[1])\n",
    "    if i.startswith('toggle'):\n",
    "        grid = toggle(grid,c[0],c[1])"
   ]
  },
  {
   "cell_type": "code",
   "execution_count": null,
   "metadata": {},
   "outputs": [],
   "source": [
    "solution = 0\n",
    "for i in grid.keys():\n",
    "    solution += bin(grid[i]).count(\"1\")\n",
    "print(\"Part 1: \", solution)"
   ]
  },
  {
   "cell_type": "code",
   "execution_count": null,
   "metadata": {},
   "outputs": [],
   "source": [
    "rows, cols = (1000, 1000)\n",
    "grid = [[0]*cols]*rows\n",
    "for i in puzzle.input_data.strip().split('\\n'):\n",
    "    ci = i.replace('turn on ','').replace('turn off ','').replace('toggle ','').replace('through ','').strip().split()\n",
    "    c = [tuple([int(x) for x in i.split(',')]) for i in ci]\n",
    "    if i.startswith('turn on'):\n",
    "        grid = turn_on(grid,c[0],c[1])\n",
    "    if i.startswith('turn off'):\n",
    "        grid = turn_off(grid,c[0],c[1])\n",
    "    if i.startswith('toggle'):\n",
    "        grid = toggle(grid,c[0],c[1])"
   ]
  },
  {
   "cell_type": "code",
   "execution_count": null,
   "metadata": {},
   "outputs": [],
   "source": [
    "solution = 0\n",
    "for x in range(1000):\n",
    "    for y in range(1000):\n",
    "        solution += grid[x][y]\n",
    "print(\"Part 2: \", solution)"
   ]
  }
 ],
 "metadata": {
  "kernelspec": {
   "display_name": "Python 3",
   "language": "python",
   "name": "python3"
  },
  "language_info": {
   "codemirror_mode": {
    "name": "ipython",
    "version": 3
   },
   "file_extension": ".py",
   "mimetype": "text/x-python",
   "name": "python",
   "nbconvert_exporter": "python",
   "pygments_lexer": "ipython3",
   "version": "3.8.6"
  }
 },
 "nbformat": 4,
 "nbformat_minor": 4
}
