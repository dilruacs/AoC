{
 "cells": [
  {
   "cell_type": "code",
   "execution_count": null,
   "metadata": {},
   "outputs": [],
   "source": [
    "import time\n",
    "from aocd.models import Puzzle\n",
    "from aocd import submit\n",
    "from functools import reduce\n",
    "\n",
    "puzzle=Puzzle(year=2015, day=3)"
   ]
  },
  {
   "cell_type": "code",
   "execution_count": null,
   "metadata": {},
   "outputs": [],
   "source": [
    "o=len(puzzle.input_data)"
   ]
  },
  {
   "cell_type": "code",
   "execution_count": null,
   "metadata": {},
   "outputs": [],
   "source": [
    "a=[]\n",
    "x=0\n",
    "y=0\n",
    "for i in range(o):\n",
    "    a.append((x,y))\n",
    "    if puzzle.input_data[i] == '>':\n",
    "        x+=1\n",
    "    if puzzle.input_data[i] == '<':\n",
    "        x-=1\n",
    "    if puzzle.input_data[i] == '^':\n",
    "        y+=1\n",
    "    if puzzle.input_data[i] == 'v':\n",
    "        y-=1\n",
    "print(\"Part 1: \",len(set(a)))"
   ]
  },
  {
   "cell_type": "code",
   "execution_count": null,
   "metadata": {},
   "outputs": [],
   "source": [
    "a=[]\n",
    "x=[0,0]\n",
    "y=[0,0]\n",
    "a.append((0,0))\n",
    "for i in range(o):\n",
    "    if puzzle.input_data[i] == '>':\n",
    "        x[i%2]+=1\n",
    "    if puzzle.input_data[i] == '<':\n",
    "        x[i%2]-=1\n",
    "    if puzzle.input_data[i] == '^':\n",
    "        y[i%2]+=1\n",
    "    if puzzle.input_data[i] == 'v':\n",
    "        y[i%2]-=1\n",
    "    # print(\"{i}: Santa ({x0},{y0}); Robo-Santa ({x1},{y1})\".format(i=i,x0=x[0],y0=y[0],x1=x[1],y1=y[1]))\n",
    "    a.append((x[i%2],y[i%2]))\n",
    "print(\"Part 2: \",len(set(a)))"
   ]
  }
 ],
 "metadata": {
  "kernelspec": {
   "display_name": "Python 3",
   "language": "python",
   "name": "python3"
  },
  "language_info": {
   "codemirror_mode": {
    "name": "ipython",
    "version": 3
   },
   "file_extension": ".py",
   "mimetype": "text/x-python",
   "name": "python",
   "nbconvert_exporter": "python",
   "pygments_lexer": "ipython3",
   "version": "3.8.6"
  }
 },
 "nbformat": 4,
 "nbformat_minor": 4
}
