{
 "cells": [
  {
   "cell_type": "code",
   "execution_count": null,
   "metadata": {},
   "outputs": [],
   "source": [
    "import time\n",
    "import copy\n",
    "from aocd.models import Puzzle\n",
    "from aocd import submit\n",
    "\n",
    "puzzle=Puzzle(year=2020, day=17)"
   ]
  },
  {
   "cell_type": "code",
   "execution_count": null,
   "metadata": {},
   "outputs": [],
   "source": [
    "DEBUG=False"
   ]
  },
  {
   "cell_type": "code",
   "execution_count": null,
   "metadata": {},
   "outputs": [],
   "source": [
    "inp = puzzle.input_data\n",
    "if DEBUG:\n",
    "    inp = \"\"\".#.\\n..#\\n###\"\"\""
   ]
  },
  {
   "cell_type": "code",
   "execution_count": null,
   "metadata": {},
   "outputs": [],
   "source": [
    "def get_dimensions(p):\n",
    "    xl=[c[0] for c in pocket]\n",
    "    yl=[c[1] for c in pocket]\n",
    "    zl=[c[2] for c in pocket]\n",
    "    return {\"x\":(min(xl),max(xl)), \"y\":(min(yl),max(yl)), \"z\": (min(zl),max(zl))}"
   ]
  },
  {
   "cell_type": "code",
   "execution_count": null,
   "metadata": {},
   "outputs": [],
   "source": [
    "def print_pocket(p):\n",
    "    s=get_dimensions(p)\n",
    "    for z in range(s[\"z\"][0],s[\"z\"][1]+1):\n",
    "        print(\"\\nz={z}\".format(z=z))\n",
    "        for x in range(s[\"x\"][0],s[\"x\"][1]+1):\n",
    "            row = ''\n",
    "            for y in range(s[\"y\"][0],s[\"y\"][1]+1):\n",
    "                row+=p[(x,y,z)] if cube_active(p, (x,y,z)) else '.'\n",
    "            print(row)"
   ]
  },
  {
   "cell_type": "code",
   "execution_count": null,
   "metadata": {},
   "outputs": [],
   "source": [
    "def cube_active(p, c):\n",
    "    return True if c in p and p[c] == '#' else False"
   ]
  },
  {
   "cell_type": "code",
   "execution_count": null,
   "metadata": {},
   "outputs": [],
   "source": [
    "def count_neighbours(p, c):\n",
    "    neighbours=0\n",
    "    for z in range(c[2]-1,c[2]+2):\n",
    "        for x in range(c[0]-1,c[0]+2):\n",
    "            for y in range(c[1]-1,c[1]+2):\n",
    "                if (x,y,z) != c:\n",
    "                    neighbours += cube_active(p, (x,y,z))\n",
    "    return neighbours"
   ]
  },
  {
   "cell_type": "code",
   "execution_count": null,
   "metadata": {},
   "outputs": [],
   "source": [
    "def count_active(p):\n",
    "    active=0\n",
    "    for c in p:\n",
    "        active += p[c]==\"#\""
   ]
  },
  {
   "cell_type": "code",
   "execution_count": null,
   "metadata": {},
   "outputs": [],
   "source": [
    "pocket = {}\n",
    "z = 0\n",
    "for x, row in enumerate(inp.split('\\n')):\n",
    "    for y, char in enumerate(list(row)):\n",
    "        pocket[(x,y,z)] = char"
   ]
  },
  {
   "cell_type": "code",
   "execution_count": null,
   "metadata": {},
   "outputs": [],
   "source": [
    "loops = 6"
   ]
  },
  {
   "cell_type": "code",
   "execution_count": null,
   "metadata": {},
   "outputs": [],
   "source": [
    "if DEBUG:\n",
    "    print(\"Before any cycle:\")\n",
    "    print_pocket(pocket)\n",
    "\n",
    "for i in range(loops):\n",
    "    tmp = copy.deepcopy(pocket)\n",
    "    s = get_dimensions(pocket)\n",
    "    for c in [(x,y,z) for x in range(s[\"x\"][0]-1,s[\"x\"][1]+2) for y in range(s[\"y\"][0]-1,s[\"y\"][1]+2) for z in range(s[\"z\"][0]-1,s[\"z\"][1]+2)]:\n",
    "        cnt = count_neighbours(pocket, c)\n",
    "        if cube_active(pocket, c) and not (cnt == 2 or cnt ==3):\n",
    "            tmp[c] = '.'\n",
    "        if not cube_active(pocket, c) and cnt == 3:\n",
    "            tmp[c] = '#'\n",
    "    pocket = copy.deepcopy(tmp)\n",
    "    if DEBUG:\n",
    "        print(\"\\n\\nAfter {i} cycle{s}:\".format(i=i+1, s=\"\" if i+1 == 1 else \"s\"))\n",
    "        print_pocket(pocket)\n",
    "\n",
    "p1=sum([pocket[c]==\"#\" for c in pocket])\n",
    "print(\"{n} cubes left active.\".format(n=p1))"
   ]
  },
  {
   "cell_type": "code",
   "execution_count": null,
   "metadata": {},
   "outputs": [],
   "source": [
    "if not DEBUG:\n",
    "    submit(p1, part=\"a\", day=17, year=2020)"
   ]
  }
 ],
 "metadata": {
  "kernelspec": {
   "display_name": "aoc",
   "language": "python",
   "name": "aoc"
  },
  "language_info": {
   "codemirror_mode": {
    "name": "ipython",
    "version": 3
   },
   "file_extension": ".py",
   "mimetype": "text/x-python",
   "name": "python",
   "nbconvert_exporter": "python",
   "pygments_lexer": "ipython3",
   "version": "3.9.1"
  }
 },
 "nbformat": 4,
 "nbformat_minor": 4
}
