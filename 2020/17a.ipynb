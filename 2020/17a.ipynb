{
 "cells": [
  {
   "cell_type": "code",
   "execution_count": null,
   "metadata": {},
   "outputs": [],
   "source": [
    "import time\n",
    "from aocd.models import Puzzle\n",
    "from aocd import submit\n",
    "\n",
    "from collections import Counter\n",
    "from itertools import product\n",
    "from functools import lru_cache\n",
    "\n",
    "puzzle=Puzzle(year=2020, day=17)"
   ]
  },
  {
   "cell_type": "code",
   "execution_count": null,
   "metadata": {},
   "outputs": [],
   "source": [
    "DEBUG  = False\n",
    "SUBMIT = False\n",
    "loops  = 6"
   ]
  },
  {
   "cell_type": "code",
   "execution_count": null,
   "metadata": {},
   "outputs": [],
   "source": [
    "inp = puzzle.input_data\n",
    "if DEBUG:\n",
    "    inp = \"\"\".#.\\n..#\\n###\"\"\""
   ]
  },
  {
   "cell_type": "code",
   "execution_count": null,
   "metadata": {},
   "outputs": [],
   "source": [
    "@lru_cache()\n",
    "def get_neighbors(cell):\n",
    "    neighbors = [tuple(cell[i] + v[i] for i in range(len(cell))) for v in product([-1, 0, 1], repeat=len(cell)) ]\n",
    "    neighbors.remove(cell)\n",
    "    return set(neighbors)"
   ]
  },
  {
   "cell_type": "code",
   "execution_count": null,
   "metadata": {},
   "outputs": [],
   "source": [
    "def solve(inp, dimensions=2, loops=loops):\n",
    "    active = set()\n",
    "    _ = [active.add((x, y) + (0,)*(dimensions - 2)) for x, line in enumerate(inp.split('\\n')) for y, char in filter(lambda c: c[1] == '#', enumerate(line))]\n",
    "    for _ in range(loops):\n",
    "        neighbors = Counter(neighbor for cell in active for neighbor in get_neighbors(cell))\n",
    "        active = set([cell for cell, neighbor_count in filter(lambda x: x[1] == 3 or x[0] in active and x[1] == 2, neighbors.items())])\n",
    "    return len(active)"
   ]
  },
  {
   "cell_type": "code",
   "execution_count": null,
   "metadata": {},
   "outputs": [],
   "source": [
    "solve(inp, dimensions=4)"
   ]
  }
 ],
 "metadata": {
  "kernelspec": {
   "display_name": "Python 3",
   "language": "python",
   "name": "python3"
  },
  "language_info": {
   "codemirror_mode": {
    "name": "ipython",
    "version": 3
   },
   "file_extension": ".py",
   "mimetype": "text/x-python",
   "name": "python",
   "nbconvert_exporter": "python",
   "pygments_lexer": "ipython3",
   "version": "3.8.6"
  }
 },
 "nbformat": 4,
 "nbformat_minor": 4
}
