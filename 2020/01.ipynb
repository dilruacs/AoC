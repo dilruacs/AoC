{
 "cells": [
  {
   "cell_type": "code",
   "execution_count": null,
   "metadata": {},
   "outputs": [],
   "source": [
    "from aocd.models import Puzzle\n",
    "from functools import reduce\n",
    "\n",
    "puzzle=Puzzle(year=2020, day=1)"
   ]
  },
  {
   "cell_type": "code",
   "execution_count": null,
   "metadata": {},
   "outputs": [],
   "source": [
    "def findsum(s,n,l,a=[]):\n",
    "    found=False\n",
    "    if n == 0:\n",
    "        return a\n",
    "    if n == 1:\n",
    "        if s in l:\n",
    "            found=True\n",
    "            a.append(s)\n",
    "#    elif len(l) == n:\n",
    "#        if sum(l) == s:\n",
    "#            found=True\n",
    "#            a.extend(l)\n",
    "    else:\n",
    "        for i in range(len(l)-n):\n",
    "            if (s > l[i]):\n",
    "                if (findsum(s-l[i],n-1,l[i+1:],a)):\n",
    "                    a.append(l[i])\n",
    "                    return a\n",
    "    return found\n"
   ]
  },
  {
   "cell_type": "code",
   "execution_count": null,
   "metadata": {},
   "outputs": [],
   "source": [
    "input_ = [int(i) for i in puzzle.input_data.split('\\n')]\n",
    "answer=findsum(2020,3,input_)\n",
    "print(reduce(lambda x,y: x*y, answer))"
   ]
  }
 ],
 "metadata": {
  "kernelspec": {
   "display_name": "Python 3",
   "language": "python",
   "name": "python3"
  },
  "language_info": {
   "codemirror_mode": {
    "name": "ipython",
    "version": 3
   },
   "file_extension": ".py",
   "mimetype": "text/x-python",
   "name": "python",
   "nbconvert_exporter": "python",
   "pygments_lexer": "ipython3",
   "version": "3.8.6"
  }
 },
 "nbformat": 4,
 "nbformat_minor": 4
}
