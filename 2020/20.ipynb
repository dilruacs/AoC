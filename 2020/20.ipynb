{
 "cells": [
  {
   "cell_type": "code",
   "execution_count": null,
   "metadata": {},
   "outputs": [],
   "source": [
    "import time\n",
    "import copy\n",
    "from aocd.models import Puzzle\n",
    "from aocd import submit\n",
    "\n",
    "puzzle=Puzzle(year=2020, day=20)"
   ]
  },
  {
   "cell_type": "code",
   "execution_count": null,
   "metadata": {},
   "outputs": [],
   "source": [
    "def str2num(string):\n",
    "    return sum([2**n for n,c in enumerate(reversed(string)) if c == '#'])"
   ]
  },
  {
   "cell_type": "code",
   "execution_count": null,
   "metadata": {},
   "outputs": [],
   "source": [
    "def rev(num):\n",
    "    return sum(1<<(10-1-i) for i in range(10) if num>>i&1)"
   ]
  },
  {
   "cell_type": "code",
   "execution_count": null,
   "metadata": {},
   "outputs": [],
   "source": [
    "def flip_h(sides):\n",
    "    return [sides[2], rev(sides[1]), sides[0], rev(sides[3])]"
   ]
  },
  {
   "cell_type": "code",
   "execution_count": null,
   "metadata": {},
   "outputs": [],
   "source": [
    "def flip_v(sides):\n",
    "    return [rev(sides[0]), sides[3], rev(sides[2]), sides[1]]"
   ]
  },
  {
   "cell_type": "code",
   "execution_count": null,
   "metadata": {},
   "outputs": [],
   "source": [
    "tiles = {}\n",
    "for t in puzzle.input_data.split('\\n\\n'):\n",
    "    sides=[0]*4\n",
    "    n = t.split('\\n')[0][5:-1]\n",
    "    t = t.split('\\n')[1:]\n",
    "    sides[0] = str2num(t[0])\n",
    "    sides[1] = str2num(''.join([l[9] for l in t]))\n",
    "    sides[2] = str2num(t[9])\n",
    "    sides[3] = str2num(''.join([l[0] for l in t]))\n",
    "    tiles[n] = sides"
   ]
  }
 ],
 "metadata": {
  "kernelspec": {
   "display_name": "aoc",
   "language": "python",
   "name": "aoc"
  },
  "language_info": {
   "codemirror_mode": {
    "name": "ipython",
    "version": 3
   },
   "file_extension": ".py",
   "mimetype": "text/x-python",
   "name": "python",
   "nbconvert_exporter": "python",
   "pygments_lexer": "ipython3",
   "version": "3.9.1"
  }
 },
 "nbformat": 4,
 "nbformat_minor": 4
}
