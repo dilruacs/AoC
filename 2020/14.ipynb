{
 "cells": [
  {
   "cell_type": "code",
   "execution_count": null,
   "metadata": {},
   "outputs": [],
   "source": [
    "import time\n",
    "from aocd.models import Puzzle\n",
    "from aocd import submit\n",
    "import re\n",
    "\n",
    "puzzle=Puzzle(year=2020, day=14)"
   ]
  },
  {
   "cell_type": "code",
   "execution_count": null,
   "metadata": {},
   "outputs": [],
   "source": [
    "example_ = \"\"\"mask = XXXXXXXXXXXXXXXXXXXXXXXXXXXXX1XXXX0X\n",
    "mem[8] = 11\n",
    "mem[7] = 101\n",
    "mem[8] = 0\"\"\""
   ]
  },
  {
   "cell_type": "code",
   "execution_count": null,
   "metadata": {},
   "outputs": [],
   "source": [
    "inp = example_\n",
    "inp = puzzle.input_data"
   ]
  },
  {
   "cell_type": "code",
   "execution_count": null,
   "metadata": {},
   "outputs": [],
   "source": [
    "def lpadz(i,n):\n",
    "    return ((\"0\"*n)+bin(i)[2:])[-n:]"
   ]
  },
  {
   "cell_type": "code",
   "execution_count": null,
   "metadata": {},
   "outputs": [],
   "source": [
    "def apply_mask(mask, value):\n",
    "    value &= int(\"0b\"+mask.replace(\"X\",\"1\"),2)\n",
    "    value |= int(\"0b\"+mask.replace(\"X\",\"0\"),2)\n",
    "    return value"
   ]
  },
  {
   "cell_type": "code",
   "execution_count": null,
   "metadata": {},
   "outputs": [],
   "source": [
    "def decode_address(mask, value):\n",
    "    xpos = [m.start() for m in re.finditer(\"X\",mask)]\n",
    "    numx = len(xpos)\n",
    "\n",
    "    answer=[]\n",
    "    start=lpadz(value | int(\"0b\"+mask.replace(\"X\",\"0\"),2), 36)\n",
    "    for i in range(2**numx):\n",
    "        p=lpadz(i,numx)\n",
    "        c=0\n",
    "        t=list(start)\n",
    "        for m in xpos:\n",
    "            t[m]=p[c]\n",
    "            c+=1\n",
    "        answer.append(int(\"0b\"+''.join(t),2))\n",
    "    return answer"
   ]
  },
  {
   "cell_type": "code",
   "execution_count": null,
   "metadata": {},
   "outputs": [],
   "source": [
    "memory={}\n",
    "mask=\"\"\n",
    "for l in inp.split('\\n'):\n",
    "    k,v=l.split(' = ')\n",
    "    if k==\"mask\":\n",
    "        mask=v\n",
    "    else:\n",
    "        address=int(k[4:-1])\n",
    "        memory[address]=apply_mask(mask,int(v))"
   ]
  },
  {
   "cell_type": "code",
   "execution_count": null,
   "metadata": {},
   "outputs": [],
   "source": [
    "submit(sum(memory.values()), part=\"a\", day=14, year=2020)"
   ]
  },
  {
   "cell_type": "code",
   "execution_count": null,
   "metadata": {},
   "outputs": [],
   "source": [
    "memory={}\n",
    "mask=\"\"\n",
    "for l in inp.split('\\n'):\n",
    "    k,v=l.split(' = ')\n",
    "    if k==\"mask\":\n",
    "        mask=v\n",
    "    else:\n",
    "        address=int(k[4:-1])\n",
    "        for a in decode_address(mask, address):\n",
    "            memory[a]=int(v)"
   ]
  },
  {
   "cell_type": "code",
   "execution_count": null,
   "metadata": {},
   "outputs": [],
   "source": [
    "submit(sum(memory.values()), part=\"b\", day=14, year=2020)"
   ]
  }
 ],
 "metadata": {
  "kernelspec": {
   "display_name": "Python 3",
   "language": "python",
   "name": "python3"
  },
  "language_info": {
   "codemirror_mode": {
    "name": "ipython",
    "version": 3
   },
   "file_extension": ".py",
   "mimetype": "text/x-python",
   "name": "python",
   "nbconvert_exporter": "python",
   "pygments_lexer": "ipython3",
   "version": "3.8.6"
  }
 },
 "nbformat": 4,
 "nbformat_minor": 4
}
