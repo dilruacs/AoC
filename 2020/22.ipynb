{
 "cells": [
  {
   "cell_type": "code",
   "execution_count": 139,
   "metadata": {},
   "outputs": [],
   "source": [
    "import time\n",
    "import copy\n",
    "from aocd.models import Puzzle\n",
    "from aocd import submit\n",
    "\n",
    "puzzle=Puzzle(year=2020, day=22)"
   ]
  },
  {
   "cell_type": "code",
   "execution_count": 140,
   "metadata": {},
   "outputs": [],
   "source": [
    "DEBUG = False\n",
    "SUBMIT = True"
   ]
  },
  {
   "cell_type": "code",
   "execution_count": 141,
   "metadata": {},
   "outputs": [],
   "source": [
    "example_ = \"\"\"Player 1:\n",
    "9\n",
    "2\n",
    "6\n",
    "3\n",
    "1\n",
    "\n",
    "Player 2:\n",
    "5\n",
    "8\n",
    "4\n",
    "7\n",
    "10\"\"\""
   ]
  },
  {
   "cell_type": "code",
   "execution_count": 142,
   "metadata": {},
   "outputs": [],
   "source": [
    "recurse_test = \"\"\"Player 1:\n",
    "43\n",
    "19\n",
    "\n",
    "Player 2:\n",
    "2\n",
    "29\n",
    "14\"\"\""
   ]
  },
  {
   "cell_type": "code",
   "execution_count": 143,
   "metadata": {},
   "outputs": [],
   "source": [
    "inp = puzzle.input_data\n",
    "if DEBUG:\n",
    "    inp = example_"
   ]
  },
  {
   "cell_type": "code",
   "execution_count": 144,
   "metadata": {},
   "outputs": [],
   "source": [
    "def parse_input(inp):\n",
    "    decks = {}\n",
    "    for deck in inp.split('\\n\\n'):\n",
    "        p=int(deck[7:8])-1\n",
    "        decks[p]=[]\n",
    "        for card in deck.split('\\n')[1:]:\n",
    "            decks[p].append(int(card))\n",
    "    return decks"
   ]
  },
  {
   "cell_type": "code",
   "execution_count": 145,
   "metadata": {},
   "outputs": [],
   "source": [
    "def score(decks):\n",
    "    winner = 1 if len(decks[1])>0 else 0\n",
    "    print()\n",
    "    print(\"== Post-game results ==\")\n",
    "    for n, d in enumerate(decks):\n",
    "        print(\"Player's {n}'s deck: {d}\".format(n=n+1,d=', '.join([str(c) for c in decks[n]])))\n",
    "        \n",
    "    return sum([(n+1)*c for n,c in enumerate(reversed(decks[winner]))])"
   ]
  },
  {
   "cell_type": "code",
   "execution_count": 146,
   "metadata": {},
   "outputs": [],
   "source": [
    "def combat(decks):\n",
    "    round = 1\n",
    "    while min([len(decks[d]) for d in decks])>0:\n",
    "        winner = 1 if decks[1][0] > decks[0][0] else 0\n",
    "\n",
    "        if DEBUG:\n",
    "            print(\"-- Round {r} --\".format(r=round))\n",
    "            for n, d in enumerate(decks):\n",
    "                print(\"Player {n}'s deck: {d}\".format(n=n+1,d=', '.join([str(c) for c in decks[n]])))\n",
    "            for n, d in enumerate(decks):\n",
    "                print(\"Player {n} plays: {c}\".format(n=n+1,c=decks[n][0]))\n",
    "            print(\"Player {n} wins the round!\".format(n=winner+1))\n",
    "            print()\n",
    "\n",
    "        decks[winner].append(decks[winner].pop(0))\n",
    "        decks[winner].append(decks[1-winner].pop(0))\n",
    "        round+=1\n",
    "        \n",
    "    return decks"
   ]
  },
  {
   "cell_type": "code",
   "execution_count": 147,
   "metadata": {},
   "outputs": [],
   "source": [
    "def recursive_combat(decks, game):\n",
    "    if DEBUG:\n",
    "        print(\"=== Game {g} ===\".format(g=game))\n",
    "        print()\n",
    "\n",
    "    previous = set()\n",
    "    round = 1\n",
    "    while min([len(decks[d]) for d in decks])>0:\n",
    "        winner = 0\n",
    "        if DEBUG:\n",
    "            print(\"-- Round {r} (Game {g}) --\".format(r=round, g=game))\n",
    "            for n, d in enumerate(decks):\n",
    "                print(\"Player {n}'s deck: {d}\".format(n=n+1,d=', '.join([str(c) for c in decks[n]])))\n",
    "            for n, d in enumerate(decks):\n",
    "                print(\"Player {n} plays: {c}\".format(n=n+1,c=decks[n][0]))\n",
    "\n",
    "        c = [decks[d].pop(0) for d in decks]\n",
    "        if tuple(decks[0]+decks[1]) not in previous:\n",
    "            previous.add(tuple(decks[0]+decks[1]))\n",
    "            if False not in [len(decks[d]) >= c[d] for d in decks]:\n",
    "                if DEBUG:\n",
    "                    print(\"Playing a sub-game to determine the winner...\")\n",
    "                    print()\n",
    "                winner = recursive_combat({n:decks[n][:c[n]] for n in decks}, game+1)\n",
    "                if DEBUG:\n",
    "                    print(\"...anyway, back to game {g}.\".format(g=game))\n",
    "            else:\n",
    "                winner = c.index(max(c))\n",
    "\n",
    "        if DEBUG:\n",
    "            print(\"Player {n} wins the round {r} of game {g}!\".format(n=winner+1, r=round, g=game))\n",
    "            print()\n",
    "\n",
    "        decks[winner].append(c[winner])\n",
    "        decks[winner].append(c[1-winner])\n",
    "        round+=1\n",
    "\n",
    "    if DEBUG:\n",
    "        print(\"The winner of game {g} is player {n}!\".format(g=game, n=winner+1))\n",
    "        print()\n",
    "    return winner"
   ]
  },
  {
   "cell_type": "code",
   "execution_count": 148,
   "metadata": {},
   "outputs": [
    {
     "name": "stdout",
     "output_type": "stream",
     "text": [
      "\n",
      "== Post-game results ==\n",
      "Player's 1's deck: 44, 25, 36, 21, 42, 22, 31, 20, 50, 26, 16, 11, 19, 9, 13, 2, 41, 8, 32, 6, 40, 18, 38, 15, 49, 35, 43, 33, 24, 23, 17, 10, 14, 1, 48, 45, 47, 30, 46, 39, 27, 7, 37, 34, 28, 12, 29, 4, 5, 3\n",
      "Player's 2's deck: \n"
     ]
    }
   ],
   "source": [
    "p1=score(combat(parse_input(inp)))"
   ]
  },
  {
   "cell_type": "code",
   "execution_count": 149,
   "metadata": {},
   "outputs": [
    {
     "name": "stdout",
     "output_type": "stream",
     "text": [
      "Part a already solved with same answer: 33631\n"
     ]
    }
   ],
   "source": [
    "if SUBMIT:\n",
    "    submit(p1, part=\"a\", day=22, year=2020)"
   ]
  },
  {
   "cell_type": "code",
   "execution_count": 150,
   "metadata": {},
   "outputs": [
    {
     "name": "stdout",
     "output_type": "stream",
     "text": [
      "\n",
      "== Post-game results ==\n",
      "Player's 1's deck: 22, 5, 42, 34, 31, 3, 35, 28, 27, 4, 21, 20, 50, 24, 32, 13, 46, 39, 16, 6, 43, 8, 38, 10, 48, 45, 47, 37, 12, 11, 49, 17, 33, 14, 30, 23, 29, 18, 44, 25, 26, 2, 41, 36, 19, 9, 40, 15, 7, 1\n",
      "Player's 2's deck: \n"
     ]
    }
   ],
   "source": [
    "decks=parse_input(inp)\n",
    "recursive_combat(decks,1)\n",
    "p2=score(decks)"
   ]
  },
  {
   "cell_type": "code",
   "execution_count": 65,
   "metadata": {},
   "outputs": [
    {
     "name": "stderr",
     "output_type": "stream",
     "text": [
      "wrong answer: 38501\n"
     ]
    },
    {
     "name": "stdout",
     "output_type": "stream",
     "text": [
      "\u001b[31mThat's not the right answer; your answer is too high.  If you're stuck, make sure you're using the full input data; there are also some general tips on the about page, or you can ask for hints on the subreddit.  Please wait one minute before trying again. (You guessed 38501.) [Return to Day 22]\u001b[0m\n"
     ]
    }
   ],
   "source": [
    "if SUBMIT and not DEBUG:\n",
    "    submit(p2, part=\"b\", day=22, year=2020)"
   ]
  },
  {
   "cell_type": "code",
   "execution_count": 90,
   "metadata": {},
   "outputs": [
    {
     "data": {
      "text/plain": [
       "[0, 10]"
      ]
     },
     "execution_count": 90,
     "metadata": {},
     "output_type": "execute_result"
    }
   ],
   "source": [
    "[len(decks[d]) for d in decks]"
   ]
  },
  {
   "cell_type": "code",
   "execution_count": 93,
   "metadata": {},
   "outputs": [
    {
     "name": "stdout",
     "output_type": "stream",
     "text": [
      "0 0\n",
      "1 1\n"
     ]
    }
   ],
   "source": [
    "for n, d in enumerate(decks):\n",
    "    print(n,d)"
   ]
  },
  {
   "cell_type": "code",
   "execution_count": 94,
   "metadata": {},
   "outputs": [
    {
     "data": {
      "text/plain": [
       "{0: [9, 2, 6, 3, 1], 1: [5, 8, 4, 7, 10]}"
      ]
     },
     "execution_count": 94,
     "metadata": {},
     "output_type": "execute_result"
    }
   ],
   "source": [
    "decks"
   ]
  },
  {
   "cell_type": "code",
   "execution_count": null,
   "metadata": {},
   "outputs": [],
   "source": []
  }
 ],
 "metadata": {
  "kernelspec": {
   "display_name": "aoc",
   "language": "python",
   "name": "aoc"
  },
  "language_info": {
   "codemirror_mode": {
    "name": "ipython",
    "version": 3
   },
   "file_extension": ".py",
   "mimetype": "text/x-python",
   "name": "python",
   "nbconvert_exporter": "python",
   "pygments_lexer": "ipython3",
   "version": "3.9.1"
  }
 },
 "nbformat": 4,
 "nbformat_minor": 4
}
