{
 "cells": [
  {
   "cell_type": "code",
   "execution_count": null,
   "metadata": {},
   "outputs": [],
   "source": [
    "from aocd.models import Puzzle\n",
    "\n",
    "puzzle=Puzzle(year=2020, day=8)"
   ]
  },
  {
   "cell_type": "code",
   "execution_count": null,
   "metadata": {},
   "outputs": [],
   "source": [
    "example_ = \"\"\"\n",
    "nop +0\n",
    "acc +1\n",
    "jmp +4\n",
    "acc +3\n",
    "jmp -3\n",
    "acc -99\n",
    "acc +1\n",
    "jmp -4\n",
    "acc +6\n",
    "\"\"\""
   ]
  },
  {
   "cell_type": "code",
   "execution_count": null,
   "metadata": {},
   "outputs": [],
   "source": [
    "def try_path(inp, swap=None):\n",
    "    i = 0\n",
    "    acc = 0\n",
    "    bookmark = [0]*len(inp)\n",
    "    while i < len(inp):\n",
    "        if bookmark[i] == 1:\n",
    "            if swap is not None:\n",
    "                acc = None\n",
    "            break\n",
    "        bookmark[i] = 1\n",
    "        if inp[i][0] == 'acc':\n",
    "            acc+=inp[i][1]\n",
    "            i+=1\n",
    "        if i == swap:\n",
    "            if inp[i][0] == 'jmp':\n",
    "                i+=1\n",
    "            if inp[i][0] == 'nop':\n",
    "                i+=inp[i][1]\n",
    "        else:\n",
    "            if inp[i][0] == 'nop':\n",
    "                i+=1\n",
    "            if inp[i][0] == 'jmp':\n",
    "                i+=inp[i][1]\n",
    "    return acc"
   ]
  },
  {
   "cell_type": "code",
   "execution_count": null,
   "metadata": {},
   "outputs": [],
   "source": [
    "input_ = [(i.split()[0], int(i.split()[1])) for i in puzzle.input_data.strip().split('\\n')]"
   ]
  },
  {
   "cell_type": "code",
   "execution_count": null,
   "metadata": {},
   "outputs": [],
   "source": [
    "print(\"Part 1: \", try_path(input_))"
   ]
  },
  {
   "cell_type": "code",
   "execution_count": null,
   "metadata": {},
   "outputs": [],
   "source": [
    "acc = None\n",
    "i = 0\n",
    "crumbtrail = []\n",
    "for i in range(len(input_)):\n",
    "    if (try_path(input_,i)):\n",
    "        crumbtrail.append(i)\n",
    "print(\"Part 2: \", try_path(input_,crumbtrail[0]))"
   ]
  }
 ],
 "metadata": {
  "kernelspec": {
   "display_name": "Python 3",
   "language": "python",
   "name": "python3"
  },
  "language_info": {
   "codemirror_mode": {
    "name": "ipython",
    "version": 3
   },
   "file_extension": ".py",
   "mimetype": "text/x-python",
   "name": "python",
   "nbconvert_exporter": "python",
   "pygments_lexer": "ipython3",
   "version": "3.8.6"
  }
 },
 "nbformat": 4,
 "nbformat_minor": 4
}
