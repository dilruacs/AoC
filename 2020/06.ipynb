{
 "cells": [
  {
   "cell_type": "code",
   "execution_count": null,
   "metadata": {},
   "outputs": [],
   "source": [
    "from aocd.models import Puzzle\n",
    "from functools import reduce\n",
    "\n",
    "puzzle=Puzzle(year=2020, day=6)"
   ]
  },
  {
   "cell_type": "code",
   "execution_count": null,
   "metadata": {},
   "outputs": [],
   "source": [
    "example_ = \"\"\"\n",
    "abc\n",
    "\n",
    "a\n",
    "b\n",
    "c\n",
    "\n",
    "ab\n",
    "ac\n",
    "\n",
    "a\n",
    "a\n",
    "a\n",
    "a\n",
    "\n",
    "b\n",
    "\"\"\""
   ]
  },
  {
   "cell_type": "code",
   "execution_count": null,
   "metadata": {},
   "outputs": [],
   "source": [
    "solution = 0\n",
    "for g in puzzle.input_data.strip().split('\\n\\n'):\n",
    "    arr={}\n",
    "    for c in g:\n",
    "        arr[c]=arr[c]+1 if c in arr else 1\n",
    "    solution += sum([1 if k!='\\n' else 0 for k in arr])\n",
    "print(\"Part 1: \",solution)"
   ]
  },
  {
   "cell_type": "code",
   "execution_count": null,
   "metadata": {},
   "outputs": [],
   "source": [
    "print(\"Part 1: \",sum([bin(reduce(lambda x,y:x|y, [(1 << ord(c)-97) for c in g.replace('\\n','')])).count(\"1\") for g in puzzle.input_data.strip().split('\\n\\n')]))"
   ]
  },
  {
   "cell_type": "code",
   "execution_count": null,
   "metadata": {},
   "outputs": [],
   "source": [
    "print(\"Part 2: \",sum([bin(reduce(lambda x,y:x&y, [reduce(lambda x,y:x|y, [(1 << ord(i)-97) for i in p]) for p in g.split()])).count(\"1\") for g in puzzle.input_data.strip().split('\\n\\n')]))"
   ]
  },
  {
   "cell_type": "code",
   "execution_count": null,
   "metadata": {},
   "outputs": [],
   "source": [
    "print(\"Part 1: \",sum(len(set.union(*map(set, g.split('\\n')))) for g in puzzle.input_data.strip().split('\\n\\n')))"
   ]
  },
  {
   "cell_type": "code",
   "execution_count": null,
   "metadata": {},
   "outputs": [],
   "source": [
    "print(\"Part 2: \",sum(len(set.intersection(*map(set, g.split('\\n')))) for g in puzzle.input_data.strip().split('\\n\\n')))"
   ]
  }
 ],
 "metadata": {
  "kernelspec": {
   "display_name": "Python 3",
   "language": "python",
   "name": "python3"
  },
  "language_info": {
   "codemirror_mode": {
    "name": "ipython",
    "version": 3
   },
   "file_extension": ".py",
   "mimetype": "text/x-python",
   "name": "python",
   "nbconvert_exporter": "python",
   "pygments_lexer": "ipython3",
   "version": "3.8.6"
  }
 },
 "nbformat": 4,
 "nbformat_minor": 4
}
