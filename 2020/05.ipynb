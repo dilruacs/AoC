{
 "cells": [
  {
   "cell_type": "code",
   "execution_count": null,
   "metadata": {},
   "outputs": [],
   "source": [
    "from aocd.models import Puzzle\n",
    "from functools import reduce\n",
    "\n",
    "puzzle=Puzzle(year=2020, day=5)"
   ]
  },
  {
   "cell_type": "code",
   "execution_count": null,
   "metadata": {},
   "outputs": [],
   "source": [
    "example_ = \"\"\"\n",
    "FBFBBFFRLR\n",
    "BFFFBBFRRR\n",
    "FFFBBBFRRR\n",
    "BBFFBBFRLL\n",
    "\"\"\""
   ]
  },
  {
   "cell_type": "code",
   "execution_count": null,
   "metadata": {},
   "outputs": [],
   "source": [
    "plane = 0\n",
    "for bp in puzzle.input_data.strip().split():\n",
    "    seat = reduce(lambda x,y: x | y, [1 << len(bp)-1-i if bp[i] in ('B','R') else 0 for i in range(len(bp))])\n",
    "    plane |= (1 << seat-1)\n",
    "maxseat = plane.bit_length()\n",
    "emptyseat = (plane ^ (1 << maxseat)-1).bit_length()\n",
    "print(\"Part 1: \", maxseat)\n",
    "print(\"Part 2: \", emptyseat)"
   ]
  },
  {
   "cell_type": "code",
   "execution_count": null,
   "metadata": {},
   "outputs": [],
   "source": [
    "plane = reduce(lambda x,y: x | (1 << y-1), [reduce(lambda x,y: x | y, [1 << len(bp)-1-i if bp[i] in ('B','R') else 0 for i in range(len(bp))]) for bp in puzzle.input_data.strip().split()])\n",
    "\n",
    "maxseat = plane.bit_length()\n",
    "emptyseat = (plane ^ (1 << maxseat)-1).bit_length()\n",
    "print(\"Part 1: \", maxseat)\n",
    "print(\"Part 2: \", emptyseat)"
   ]
  }
 ],
 "metadata": {
  "kernelspec": {
   "display_name": "Python 3",
   "language": "python",
   "name": "python3"
  },
  "language_info": {
   "codemirror_mode": {
    "name": "ipython",
    "version": 3
   },
   "file_extension": ".py",
   "mimetype": "text/x-python",
   "name": "python",
   "nbconvert_exporter": "python",
   "pygments_lexer": "ipython3",
   "version": "3.8.6"
  }
 },
 "nbformat": 4,
 "nbformat_minor": 4
}
