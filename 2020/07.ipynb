{
 "cells": [
  {
   "cell_type": "code",
   "execution_count": null,
   "metadata": {},
   "outputs": [],
   "source": [
    "from aocd.models import Puzzle\n",
    "\n",
    "puzzle=Puzzle(year=2020, day=7)"
   ]
  },
  {
   "cell_type": "code",
   "execution_count": null,
   "metadata": {},
   "outputs": [],
   "source": [
    "example_ = \"\"\"\n",
    "light red bags contain 1 bright white bag, 2 muted yellow bags.\n",
    "dark orange bags contain 3 bright white bags, 4 muted yellow bags.\n",
    "bright white bags contain 1 shiny gold bag.\n",
    "muted yellow bags contain 2 shiny gold bags, 9 faded blue bags.\n",
    "shiny gold bags contain 1 dark olive bag, 2 vibrant plum bags.\n",
    "dark olive bags contain 3 faded blue bags, 4 dotted black bags.\n",
    "vibrant plum bags contain 5 faded blue bags, 6 dotted black bags.\n",
    "faded blue bags contain no other bags.\n",
    "dotted black bags contain no other bags.\n",
    "\"\"\""
   ]
  },
  {
   "cell_type": "code",
   "execution_count": null,
   "metadata": {},
   "outputs": [],
   "source": [
    "#[{x: 0} if y == \"no other\" else {x: [{c.strip().split(' ',1)[1]: int(c.strip().split(' ',1)[0])} for c in y.split(',')]} for x,y in [x.split(' contain ') for x in example_.strip().replace(' bags','').replace(' bag','').replace('.','').split('\\n')]]\n",
    "lines_ = puzzle.input_data.strip().replace(' bags','').replace(' bag','').replace('.','').split('\\n')\n",
    "rules_ = {l.split(' contain ')[0]:l.split(' contain ')[1] for l in lines_}\n",
    "for i,j in rules_.items():\n",
    "    if j == 'no other':\n",
    "        rules_[i] = {}\n",
    "    else:\n",
    "        rules_[i] = {c.strip().split(' ',1)[1]: int(c.strip().split(' ',1)[0]) for c in rules_[i].split(',')}"
   ]
  },
  {
   "cell_type": "code",
   "execution_count": null,
   "metadata": {},
   "outputs": [],
   "source": [
    "def has_bag(rules_, cur, bag):\n",
    "    if cur == bag:\n",
    "        return True\n",
    "    return any(has_bag(rules_, c, bag) for c, _ in rules_[cur].items())"
   ]
  },
  {
   "cell_type": "code",
   "execution_count": null,
   "metadata": {},
   "outputs": [],
   "source": [
    "def count_contents(rules_, bag):\n",
    "    if rules_[bag] == {}:\n",
    "        return 1\n",
    "    a=1\n",
    "    for k,v in rules_[bag].items():\n",
    "        if isinstance(v, int):\n",
    "            a+=v*count_contents(rules_, k)\n",
    "        else:\n",
    "            a+=count_contents(v,bag)\n",
    "    return a"
   ]
  },
  {
   "cell_type": "code",
   "execution_count": null,
   "metadata": {},
   "outputs": [],
   "source": [
    "print(\"Part 1: \", sum(has_bag(rules_, cur, 'shiny gold') for cur in rules_.keys())-1)"
   ]
  },
  {
   "cell_type": "code",
   "execution_count": null,
   "metadata": {},
   "outputs": [],
   "source": [
    "print(\"Part 2: \", count_contents(rules_, 'shiny gold')-1)"
   ]
  }
 ],
 "metadata": {
  "kernelspec": {
   "display_name": "Python 3",
   "language": "python",
   "name": "python3"
  },
  "language_info": {
   "codemirror_mode": {
    "name": "ipython",
    "version": 3
   },
   "file_extension": ".py",
   "mimetype": "text/x-python",
   "name": "python",
   "nbconvert_exporter": "python",
   "pygments_lexer": "ipython3",
   "version": "3.8.6"
  }
 },
 "nbformat": 4,
 "nbformat_minor": 4
}
