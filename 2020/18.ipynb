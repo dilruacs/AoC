{
 "cells": [
  {
   "cell_type": "code",
   "execution_count": null,
   "metadata": {},
   "outputs": [],
   "source": [
    "import time\n",
    "import copy\n",
    "from aocd.models import Puzzle\n",
    "from aocd import submit\n",
    "from functools import reduce\n",
    "\n",
    "puzzle=Puzzle(year=2020, day=18)"
   ]
  },
  {
   "cell_type": "code",
   "execution_count": null,
   "metadata": {},
   "outputs": [],
   "source": [
    "DEBUG  = False\n",
    "SUBMIT = False"
   ]
  },
  {
   "cell_type": "code",
   "execution_count": null,
   "metadata": {},
   "outputs": [],
   "source": [
    "homework = puzzle.input_data.replace('(','( ').replace(')',' )').split('\\n')\n",
    "if DEBUG:\n",
    "    homework = \"\"\"2 * 3 + (4 * 5)\\n5 + (8 * 3 + 9 + 3 * 4 * 3)\\n5 * 9 * (7 * 3 * 3 + 9 * 3 + (8 + 6 * 4))\\n((2 + 4 * 9) * (6 + 9 * 8 + 6) + 6) + 2 + 4 * 2\"\"\".replace('(','( ').replace(')',' )').split('\\n')"
   ]
  },
  {
   "cell_type": "code",
   "execution_count": null,
   "metadata": {},
   "outputs": [],
   "source": [
    "def solve(assignment, plusfirst=False):\n",
    "    while '(' in assignment:\n",
    "        end = assignment.index(')')\n",
    "        start = end-list(reversed(assignment[:end])).index('(')\n",
    "        answer = solve(assignment[start:end], plusfirst)\n",
    "        for i in range((end-start)+2): assignment.pop(start-1)\n",
    "        assignment.insert(start-1, str(answer))\n",
    "\n",
    "    numbers = [int(p) for p in assignment if p.isnumeric()]\n",
    "    operators = [o for o in assignment if not o.isnumeric()]\n",
    "    if plusfirst:\n",
    "        while '+' in operators:\n",
    "            n = operators.index('+')\n",
    "            operators.pop(n)\n",
    "            a = numbers.pop(n) + numbers.pop(n)\n",
    "            numbers.insert(n,a)\n",
    "\n",
    "    answer = numbers.pop(0)\n",
    "    if len(operators) >= 1:\n",
    "        for n, o in enumerate(operators):\n",
    "            if o == \"*\":\n",
    "                answer *= numbers.pop(0)\n",
    "            if o == \"+\":\n",
    "                answer += numbers.pop(0)\n",
    "    return answer"
   ]
  },
  {
   "cell_type": "code",
   "execution_count": null,
   "metadata": {},
   "outputs": [],
   "source": [
    "p1=sum([solve(a.split()) for a in homework])"
   ]
  },
  {
   "cell_type": "code",
   "execution_count": null,
   "metadata": {},
   "outputs": [],
   "source": [
    "if SUBMIT:\n",
    "    submit(p1, part=\"a\", day=18, year=2020)    "
   ]
  },
  {
   "cell_type": "code",
   "execution_count": null,
   "metadata": {},
   "outputs": [],
   "source": [
    "p2=sum([solve(a.split(), True) for a in homework])"
   ]
  },
  {
   "cell_type": "code",
   "execution_count": null,
   "metadata": {},
   "outputs": [],
   "source": [
    "if SUBMIT:\n",
    "    submit(p2, part=\"b\", day=18, year=2020)"
   ]
  }
 ],
 "metadata": {
  "kernelspec": {
   "display_name": "aoc",
   "language": "python",
   "name": "aoc"
  },
  "language_info": {
   "codemirror_mode": {
    "name": "ipython",
    "version": 3
   },
   "file_extension": ".py",
   "mimetype": "text/x-python",
   "name": "python",
   "nbconvert_exporter": "python",
   "pygments_lexer": "ipython3",
   "version": "3.9.1"
  }
 },
 "nbformat": 4,
 "nbformat_minor": 4
}
