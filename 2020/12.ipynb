{
 "cells": [
  {
   "cell_type": "code",
   "execution_count": null,
   "metadata": {},
   "outputs": [],
   "source": [
    "import time\n",
    "import copy\n",
    "from aocd.models import Puzzle\n",
    "from aocd import submit\n",
    "from math import prod\n",
    "\n",
    "puzzle=Puzzle(year=2020, day=12)"
   ]
  },
  {
   "cell_type": "code",
   "execution_count": null,
   "metadata": {},
   "outputs": [],
   "source": [
    "example_ = \"\"\"\n",
    "F10\n",
    "N3\n",
    "F7\n",
    "R90\n",
    "F11\"\"\""
   ]
  },
  {
   "cell_type": "code",
   "execution_count": null,
   "metadata": {},
   "outputs": [],
   "source": [
    "instructions = [(i[:1],int(i[1:])) for i in puzzle.input_data.strip().split('\\n')]"
   ]
  },
  {
   "cell_type": "code",
   "execution_count": null,
   "metadata": {},
   "outputs": [],
   "source": [
    "def rotate(heading, i, n):\n",
    "    if i==\"R\":\n",
    "        heading+=n\n",
    "    if i==\"L\":\n",
    "        heading-=n\n",
    "    while heading>=360: heading-=360\n",
    "    while heading<0: heading+=360\n",
    "    return heading"
   ]
  },
  {
   "cell_type": "code",
   "execution_count": null,
   "metadata": {},
   "outputs": [],
   "source": [
    "def rotate_waypoint(waypoint, i, n):\n",
    "    if i==\"R\":\n",
    "        x,y = waypoint\n",
    "        if n == 90:\n",
    "            x,y = y,(-1*x)\n",
    "        if n == 180:\n",
    "            x,y = (-1*x,-1*y)\n",
    "        if n == 270:\n",
    "            x,y = (-1*y,x)\n",
    "    if i==\"L\":\n",
    "        x,y = rotate_waypoint(waypoint,\"R\",360-n)\n",
    "    return (x,y)"
   ]
  },
  {
   "cell_type": "code",
   "execution_count": null,
   "metadata": {},
   "outputs": [],
   "source": [
    "def move_abs(pos,i,n):\n",
    "    if i == \"N\": pos = move_rel(0, pos, n)\n",
    "    if i == \"E\": pos = move_rel(90, pos, n)\n",
    "    if i == \"S\": pos = move_rel(180, pos, n)\n",
    "    if i == \"W\": pos = move_rel(270, pos, n)\n",
    "    return pos"
   ]
  },
  {
   "cell_type": "code",
   "execution_count": null,
   "metadata": {},
   "outputs": [],
   "source": [
    "def move_rel(heading, pos, n):\n",
    "    x, y = pos\n",
    "    if heading == 0:\n",
    "        y+=n\n",
    "    if heading == 90:\n",
    "        x+=n\n",
    "    if heading == 180:\n",
    "        y-=n\n",
    "    if heading == 270:\n",
    "        x-=n\n",
    "    return (x,y)"
   ]
  },
  {
   "cell_type": "code",
   "execution_count": null,
   "metadata": {},
   "outputs": [],
   "source": [
    "def move_to_waypoint(waypoint, ship, n):\n",
    "    x, y = ship\n",
    "    x+=(waypoint[0]*n)\n",
    "    y+=(waypoint[1]*n)\n",
    "    return(x,y)"
   ]
  },
  {
   "cell_type": "code",
   "execution_count": null,
   "metadata": {},
   "outputs": [],
   "source": [
    "pos = (0,0)\n",
    "heading = 90\n",
    "for i, n in instructions:\n",
    "    if i in \"RL\": heading = rotate(heading,i,n)\n",
    "    if i in \"NESW\": pos = move_abs(pos, i, n)\n",
    "    if i in \"F\": pos = move_rel(heading, pos, n)\n",
    "        \n",
    "submit(sum([abs(i) for i in pos]), part=\"a\", day=12, year=2020)"
   ]
  },
  {
   "cell_type": "code",
   "execution_count": null,
   "metadata": {},
   "outputs": [],
   "source": [
    "ship = (0,0)\n",
    "waypoint = (10,1)\n",
    "for i, n in instructions:\n",
    "    if i in \"RL\": waypoint = rotate_waypoint(waypoint, i, n)\n",
    "    if i in \"NESW\": waypoint = move_abs(waypoint, i, n)\n",
    "    if i in \"F\": ship = move_to_waypoint(waypoint, ship, n)  \n",
    "\n",
    "\n",
    "submit(sum([abs(i) for i in ship]), part=\"b\", day=12, year=2020)"
   ]
  }
 ],
 "metadata": {
  "kernelspec": {
   "display_name": "Python 3",
   "language": "python",
   "name": "python3"
  },
  "language_info": {
   "codemirror_mode": {
    "name": "ipython",
    "version": 3
   },
   "file_extension": ".py",
   "mimetype": "text/x-python",
   "name": "python",
   "nbconvert_exporter": "python",
   "pygments_lexer": "ipython3",
   "version": "3.8.6"
  }
 },
 "nbformat": 4,
 "nbformat_minor": 4
}
