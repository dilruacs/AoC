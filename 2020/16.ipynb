{
 "cells": [
  {
   "cell_type": "code",
   "execution_count": null,
   "metadata": {},
   "outputs": [],
   "source": [
    "import time\n",
    "from aocd.models import Puzzle\n",
    "from aocd import submit\n",
    "\n",
    "puzzle=Puzzle(year=2020, day=16)"
   ]
  },
  {
   "cell_type": "code",
   "execution_count": null,
   "metadata": {},
   "outputs": [],
   "source": [
    "inp = puzzle.input_data.split('\\n\\n')\n",
    "rules = inp[0].split('\\n')\n",
    "my_ticket = inp[1].split('\\n')[1].split(',')\n",
    "nearby_tickets = [set(map(int,nt.split(','))) for nt in inp[2].split(':\\n')[1].split('\\n')]"
   ]
  },
  {
   "cell_type": "code",
   "execution_count": null,
   "metadata": {},
   "outputs": [],
   "source": [
    "rules = {h:j.split(' or ') for h,j in [i.split(': ') for i in rules]}"
   ]
  },
  {
   "cell_type": "code",
   "execution_count": null,
   "metadata": {},
   "outputs": [],
   "source": [
    "valid = set()\n",
    "for k in rules:\n",
    "    for r in rules[k]:\n",
    "        valid.update(range(int(r.split('-')[0]),int(r.split('-')[1])+1))"
   ]
  },
  {
   "cell_type": "code",
   "execution_count": null,
   "metadata": {},
   "outputs": [],
   "source": [
    "error_rate = 0\n",
    "for ticket in nearby_tickets:\n",
    "    error_rate += sum(ticket-valid)"
   ]
  },
  {
   "cell_type": "code",
   "execution_count": null,
   "metadata": {},
   "outputs": [],
   "source": [
    "submit(error_rate, part=\"a\", day=16, year=2020)"
   ]
  }
 ],
 "metadata": {
  "kernelspec": {
   "display_name": "Python 3",
   "language": "python",
   "name": "python3"
  },
  "language_info": {
   "codemirror_mode": {
    "name": "ipython",
    "version": 3
   },
   "file_extension": ".py",
   "mimetype": "text/x-python",
   "name": "python",
   "nbconvert_exporter": "python",
   "pygments_lexer": "ipython3",
   "version": "3.8.6"
  }
 },
 "nbformat": 4,
 "nbformat_minor": 4
}
