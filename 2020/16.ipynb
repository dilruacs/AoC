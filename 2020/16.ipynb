{
 "cells": [
  {
   "cell_type": "code",
   "execution_count": null,
   "metadata": {},
   "outputs": [],
   "source": [
    "import time\n",
    "from aocd.models import Puzzle\n",
    "from aocd import submit\n",
    "from functools import reduce\n",
    "\n",
    "puzzle=Puzzle(year=2020, day=16)"
   ]
  },
  {
   "cell_type": "code",
   "execution_count": null,
   "metadata": {},
   "outputs": [],
   "source": [
    "inp = puzzle.input_data.split('\\n\\n')\n",
    "rules = inp[0].split('\\n')\n",
    "my_ticket = inp[1].split('\\n')[1].split(',')\n",
    "nearby_tickets = [set(map(int,nt.split(','))) for nt in inp[2].split(':\\n')[1].split('\\n')]"
   ]
  },
  {
   "cell_type": "code",
   "execution_count": null,
   "metadata": {},
   "outputs": [],
   "source": [
    "rules = {h:j.split(' or ') for h,j in [i.split(': ') for i in rules]}"
   ]
  },
  {
   "cell_type": "code",
   "execution_count": null,
   "metadata": {},
   "outputs": [],
   "source": [
    "valid = set()\n",
    "rules_set = {}\n",
    "for k in rules:\n",
    "    s = set()\n",
    "    for r in rules[k]:\n",
    "        s.update(range(int(r.split('-')[0]),int(r.split('-')[1])+1))\n",
    "    valid.update(s)\n",
    "    rules_set[k]=s"
   ]
  },
  {
   "cell_type": "code",
   "execution_count": null,
   "metadata": {},
   "outputs": [],
   "source": [
    "error_rate = 0\n",
    "valid_tickets = set()\n",
    "for n, ticket in enumerate(nearby_tickets):\n",
    "    if ticket-valid:\n",
    "        error_rate += sum(ticket-valid)\n",
    "    else:\n",
    "        valid_tickets.add(n)"
   ]
  },
  {
   "cell_type": "code",
   "execution_count": null,
   "metadata": {},
   "outputs": [],
   "source": [
    "submit(error_rate, part=\"a\", day=16, year=2020)"
   ]
  },
  {
   "cell_type": "code",
   "execution_count": null,
   "metadata": {},
   "outputs": [],
   "source": [
    "nearby_tickets_list = [list(map(int,nt.split(','))) for nt in inp[2].split(':\\n')[1].split('\\n')]"
   ]
  },
  {
   "cell_type": "code",
   "execution_count": null,
   "metadata": {},
   "outputs": [],
   "source": [
    "map_pos = [set()]*len(rules)"
   ]
  },
  {
   "cell_type": "code",
   "execution_count": null,
   "metadata": {},
   "outputs": [],
   "source": [
    "for tn, ticket in enumerate(nearby_tickets_list):\n",
    "    if tn in valid_tickets:\n",
    "        for n, pos in enumerate(ticket):\n",
    "            s = set()\n",
    "            for rule in rules_set:\n",
    "                if pos in rules_set[rule]:\n",
    "                    s.add(rule)\n",
    "            if len(map_pos[n]) == 0:\n",
    "                map_pos[n] = s\n",
    "            else:\n",
    "                map_pos[n] = map_pos[n].intersection(s)\n",
    "            if len(map_pos[n]) == 1:\n",
    "                for i, item in enumerate(map_pos):\n",
    "                    if i!=n:\n",
    "                        map_pos[i]-=map_pos[n]"
   ]
  },
  {
   "cell_type": "code",
   "execution_count": null,
   "metadata": {},
   "outputs": [],
   "source": [
    "departure_fields=[]\n",
    "for k in rules:\n",
    "    if k.startswith('departure'):\n",
    "        for i in range(len(map_pos)):\n",
    "            if k in map_pos[i]:\n",
    "                departure_fields.append(i)"
   ]
  },
  {
   "cell_type": "code",
   "execution_count": null,
   "metadata": {},
   "outputs": [],
   "source": [
    "p2=reduce(lambda x,y:x*y, [int(i) for n,i in enumerate(my_ticket) if n in departure_fields])"
   ]
  },
  {
   "cell_type": "code",
   "execution_count": null,
   "metadata": {},
   "outputs": [],
   "source": [
    "submit(p2, part=\"b\", day=16, year=2020)"
   ]
  }
 ],
 "metadata": {
  "kernelspec": {
   "display_name": "Python 3",
   "language": "python",
   "name": "python3"
  },
  "language_info": {
   "codemirror_mode": {
    "name": "ipython",
    "version": 3
   },
   "file_extension": ".py",
   "mimetype": "text/x-python",
   "name": "python",
   "nbconvert_exporter": "python",
   "pygments_lexer": "ipython3",
   "version": "3.8.6"
  }
 },
 "nbformat": 4,
 "nbformat_minor": 4
}
