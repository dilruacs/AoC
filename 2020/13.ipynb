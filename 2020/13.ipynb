{
 "cells": [
  {
   "cell_type": "code",
   "execution_count": null,
   "metadata": {},
   "outputs": [],
   "source": [
    "import time\n",
    "from aocd.models import Puzzle\n",
    "from aocd import submit\n",
    "import math\n",
    "\n",
    "puzzle=Puzzle(year=2020, day=13)"
   ]
  },
  {
   "cell_type": "code",
   "execution_count": null,
   "metadata": {},
   "outputs": [],
   "source": [
    "example_ = \"\"\"939\n",
    "7,13,x,x,59,x,31,19\"\"\""
   ]
  },
  {
   "cell_type": "code",
   "execution_count": null,
   "metadata": {},
   "outputs": [],
   "source": [
    "inp = example_\n",
    "inp = puzzle.input_data"
   ]
  },
  {
   "cell_type": "code",
   "execution_count": null,
   "metadata": {},
   "outputs": [],
   "source": [
    "ts = int(inp.split('\\n')[0])\n",
    "inservice = [int(i) for i in inp.split('\\n')[1].split(',') if i != \"x\"]"
   ]
  },
  {
   "cell_type": "code",
   "execution_count": null,
   "metadata": {},
   "outputs": [],
   "source": [
    "answer=sorted([{'wait': (i-ts%i), 'busid': i} for i in inservice], key=lambda k: k['wait'])[0]"
   ]
  },
  {
   "cell_type": "code",
   "execution_count": null,
   "metadata": {},
   "outputs": [],
   "source": [
    "loops=1\n",
    "start = time.time()\n",
    "for n in range(loops):\n",
    "    answer=sorted([{'wait': (i-ts%i), 'busid': i} for i in inservice], key=lambda k: k['wait'])[0]\n",
    "    p1=answer['wait']*answer['busid']\n",
    "end = time.time()"
   ]
  },
  {
   "cell_type": "code",
   "execution_count": null,
   "metadata": {},
   "outputs": [],
   "source": [
    "submit(p1, part=\"a\", day=13, year=2020)"
   ]
  },
  {
   "cell_type": "code",
   "execution_count": null,
   "metadata": {},
   "outputs": [],
   "source": [
    "buses = {}\n",
    "for n, busid in enumerate(inp.split('\\n')[1].split(',')):\n",
    "    if busid!=\"x\":\n",
    "        buses[n]=int(busid)"
   ]
  },
  {
   "cell_type": "code",
   "execution_count": null,
   "metadata": {},
   "outputs": [],
   "source": [
    "print(buses)"
   ]
  },
  {
   "cell_type": "code",
   "execution_count": null,
   "metadata": {},
   "outputs": [],
   "source": [
    "modulus = 1\n",
    "for k in buses.keys():\n",
    "    modulus *= buses[k]\n",
    "\n",
    "timestamp = 0\n",
    "for offset in buses.keys():\n",
    "    timestamp += -offset * (modulus // buses[offset]) * pow(modulus // buses[offset], -1, buses[offset])\n",
    "\n",
    "print(timestamp%modulus)"
   ]
  },
  {
   "cell_type": "code",
   "execution_count": null,
   "metadata": {},
   "outputs": [],
   "source": [
    "n=1\n",
    "start=time.time()\n",
    "for i in range(n):\n",
    "    period = buses[0]\n",
    "    t = 0\n",
    "    for offset in buses.keys():\n",
    "        if offset>0:\n",
    "            timestamp = None\n",
    "            while True:\n",
    "                if (t + offset) % buses[offset] == 0:\n",
    "                    if timestamp is None:\n",
    "                        timestamp = t\n",
    "                    else:\n",
    "                        period = t - timestamp\n",
    "                        break\n",
    "\n",
    "                t += period\n",
    "end=time.time()\n",
    "print((end-start)/n)"
   ]
  },
  {
   "cell_type": "code",
   "execution_count": null,
   "metadata": {},
   "outputs": [],
   "source": [
    "print(timestamp)"
   ]
  },
  {
   "cell_type": "code",
   "execution_count": null,
   "metadata": {},
   "outputs": [],
   "source": [
    "submit(timestamp, part=\"b\", day=13, year=2020)"
   ]
  }
 ],
 "metadata": {
  "kernelspec": {
   "display_name": "Python 3",
   "language": "python",
   "name": "python3"
  },
  "language_info": {
   "codemirror_mode": {
    "name": "ipython",
    "version": 3
   },
   "file_extension": ".py",
   "mimetype": "text/x-python",
   "name": "python",
   "nbconvert_exporter": "python",
   "pygments_lexer": "ipython3",
   "version": "3.8.6"
  }
 },
 "nbformat": 4,
 "nbformat_minor": 4
}
