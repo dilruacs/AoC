{
 "cells": [
  {
   "cell_type": "code",
   "execution_count": null,
   "metadata": {},
   "outputs": [],
   "source": [
    "import time\n",
    "from aocd.models import Puzzle\n",
    "import re\n",
    "from math import prod\n",
    "\n",
    "puzzle=Puzzle(year=2020, day=10)"
   ]
  },
  {
   "cell_type": "code",
   "execution_count": null,
   "metadata": {},
   "outputs": [],
   "source": [
    "example_ = \"\"\"\n",
    "16\n",
    "10\n",
    "15\n",
    "5\n",
    "1\n",
    "11\n",
    "7\n",
    "19\n",
    "6\n",
    "12\n",
    "4\"\"\""
   ]
  },
  {
   "cell_type": "code",
   "execution_count": null,
   "metadata": {},
   "outputs": [],
   "source": [
    "example_ = \"\"\"\n",
    "28\n",
    "33\n",
    "18\n",
    "42\n",
    "31\n",
    "14\n",
    "46\n",
    "20\n",
    "48\n",
    "47\n",
    "24\n",
    "23\n",
    "49\n",
    "45\n",
    "19\n",
    "38\n",
    "39\n",
    "11\n",
    "1\n",
    "32\n",
    "25\n",
    "35\n",
    "8\n",
    "17\n",
    "7\n",
    "9\n",
    "4\n",
    "2\n",
    "34\n",
    "10\n",
    "3\n",
    "\"\"\""
   ]
  },
  {
   "cell_type": "code",
   "execution_count": null,
   "metadata": {},
   "outputs": [],
   "source": [
    "input_=[int(i) for i in example_.strip().split('\\n')]"
   ]
  },
  {
   "cell_type": "code",
   "execution_count": null,
   "metadata": {},
   "outputs": [],
   "source": [
    "input_=[int(i) for i in puzzle.input_data.strip().split('\\n')]"
   ]
  },
  {
   "cell_type": "code",
   "execution_count": null,
   "metadata": {},
   "outputs": [],
   "source": [
    "last = 0\n",
    "d=[0]*3\n",
    "for e in sorted(input_):\n",
    "    d[e-last-1]+=1\n",
    "    last=e\n",
    "print(\"Part 1: \",d[0]*(d[2]+1))"
   ]
  },
  {
   "cell_type": "code",
   "execution_count": null,
   "metadata": {},
   "outputs": [],
   "source": [
    "# ex1: [1, 4, 5, 6, 7, 10, 11, 12, 15, 16, 19]\n",
    "inp = sorted(input_)\n",
    "# diff zu nächstes element:\n",
    "# ex1: [1, 3, 1, 1, 1, 3, 1, 1, 3, 1, 3, 3]\n",
    "diffs = [i-j for i,j in zip(inp, [0]+inp)] + [3]\n",
    "\n",
    "# Distanz zwischen zwei mal 3:\n",
    "# Finde Position aller 3er\n",
    "# ex1: [2, 6, 9, 11, 12]\n",
    "delta = [1+p for p,d in enumerate(diffs) if d==3]\n",
    "# Distanz zum nächsten 3er\n",
    "# (minus 1, weil er der Listenposition aus der Tribonacci-Sequenz entspricht)\n",
    "# ex1: [1, 3, 2, 1, 0]\n",
    "L = [hi-lo-1 for lo, hi in zip([0]+delta[:-1], delta)]\n",
    "\n",
    "# ex1: [1, 1, 2, 4]\n",
    "T = [1, 1, 2] # Tribonacci!\n",
    "while len(T) <= max(L): T += [sum(T[-3:])]\n",
    "\n",
    "import math\n",
    "# Teil 1:\n",
    "# len(delta) enspricht die Zahl der 3er\n",
    "# len(diffs)-len(delta) entsprechend die verbliebene 1er\n",
    "# ex1: delta=5, diffs=12: 5*(12-5) == 35\n",
    "# Teil 2:\n",
    "# multiplizier an jede Stelle der Multiplikator aus L mit der \n",
    "# entsprechnde Position aus der Tribonacci-Folge\n",
    "# ex1: math.prod([1, 4, 2, 1, 1]) == 8\n",
    "print('Part 1:', len(delta)*(len(diffs)-len(delta)))\n",
    "print('Part 2:', prod(T[l] for l in L))"
   ]
  }
 ],
 "metadata": {
  "kernelspec": {
   "display_name": "Python 3",
   "language": "python",
   "name": "python3"
  },
  "language_info": {
   "codemirror_mode": {
    "name": "ipython",
    "version": 3
   },
   "file_extension": ".py",
   "mimetype": "text/x-python",
   "name": "python",
   "nbconvert_exporter": "python",
   "pygments_lexer": "ipython3",
   "version": "3.8.6"
  }
 },
 "nbformat": 4,
 "nbformat_minor": 4
}
