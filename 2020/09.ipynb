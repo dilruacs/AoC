{
 "cells": [
  {
   "cell_type": "code",
   "execution_count": null,
   "metadata": {},
   "outputs": [],
   "source": [
    "import time\n",
    "from aocd.models import Puzzle\n",
    "\n",
    "puzzle=Puzzle(year=2020, day=9)"
   ]
  },
  {
   "cell_type": "code",
   "execution_count": null,
   "metadata": {},
   "outputs": [],
   "source": [
    "example_ = \"\"\"\n",
    "35\n",
    "20\n",
    "15\n",
    "25\n",
    "47\n",
    "40\n",
    "62\n",
    "55\n",
    "65\n",
    "95\n",
    "102\n",
    "117\n",
    "150\n",
    "182\n",
    "127\n",
    "219\n",
    "299\n",
    "277\n",
    "309\n",
    "576\"\"\""
   ]
  },
  {
   "cell_type": "code",
   "execution_count": null,
   "metadata": {},
   "outputs": [],
   "source": [
    "p = 25"
   ]
  },
  {
   "cell_type": "code",
   "execution_count": null,
   "metadata": {},
   "outputs": [],
   "source": [
    "l = [int(i) for i in puzzle.input_data.split('\\n')]"
   ]
  },
  {
   "cell_type": "code",
   "execution_count": null,
   "metadata": {},
   "outputs": [],
   "source": [
    "def sum_in(s, l):\n",
    "    for i in range(len(l)):\n",
    "        for j in range(i+1,len(l)):\n",
    "            if l[i]+l[j] == s:\n",
    "                return True\n",
    "    return False"
   ]
  },
  {
   "cell_type": "code",
   "execution_count": null,
   "metadata": {},
   "outputs": [],
   "source": [
    "def sum_in(s, l):\n",
    "    for i in range(len(l)):\n",
    "        if s-l[i] in l[i+1:]:\n",
    "            return True\n",
    "    return False"
   ]
  },
  {
   "cell_type": "code",
   "execution_count": null,
   "metadata": {},
   "outputs": [],
   "source": [
    "def find_range(s, l):\n",
    "    for w in range(2,len(l)+1):\n",
    "        for i in range(len(l)-w):\n",
    "            if sum(l[i:i+w]) == s:\n",
    "                return l[i:i+w]"
   ]
  },
  {
   "cell_type": "code",
   "execution_count": null,
   "metadata": {},
   "outputs": [],
   "source": [
    "def find_range_v15(s, l):\n",
    "    for w in range(2,len(l)+1):\n",
    "        hi = lo = r = l[w]\n",
    "        for i in range(len(l)-w):\n",
    "            if l[i] > hi:\n",
    "                hi = l[i]\n",
    "            if l[i] < lo:\n",
    "                lo = l[i]\n",
    "            if sum(l[i:i+w]) == s:\n",
    "                return hi+lo\n",
    "    return None"
   ]
  },
  {
   "cell_type": "code",
   "execution_count": null,
   "metadata": {},
   "outputs": [],
   "source": [
    "def find_range_v2(s, l):\n",
    "    i=0\n",
    "    while i < len(l)-1:\n",
    "        hi = lo = r = l[i]\n",
    "        for j in range(i+1,len(l)-1):\n",
    "            lo = min(lo,l[j])\n",
    "            hi = max(hi,l[j])\n",
    "            r += l[j]\n",
    "            if s == r:\n",
    "                return lo+hi\n",
    "        i+=1\n",
    "    return None"
   ]
  },
  {
   "cell_type": "code",
   "execution_count": null,
   "metadata": {},
   "outputs": [],
   "source": [
    "n = 1\n",
    "\n",
    "start_time = time.time()\n",
    "\n",
    "for t in range(n):\n",
    "    i=0\n",
    "    while i<len(l)-p and sum_in(l[i+p],l[i:i+p]):\n",
    "        i+=1\n",
    "    p1 = l[i+p]\n",
    "\n",
    "    r=find_range(p1,l[:i])\n",
    "    p2=min(r)+max(r)\n",
    "    # p2=find_range_v15(p1,l[:i])\n",
    "\n",
    "stop_time = time.time()"
   ]
  },
  {
   "cell_type": "code",
   "execution_count": null,
   "metadata": {},
   "outputs": [],
   "source": [
    "p1 = [d for i, d in enumerate(l) if (d not in [x + y for x in l[i+1:i+1+25] for y in l[i+1:i+1+25] if x != y])][0]"
   ]
  },
  {
   "cell_type": "code",
   "execution_count": null,
   "metadata": {},
   "outputs": [],
   "source": [
    "print(\"Part 1: \", p1)\n",
    "print(\"Part 2: \", p2)\n",
    "\n",
    "# print(\"Avg time: \", (stop_time-start_time)/n)"
   ]
  }
 ],
 "metadata": {
  "kernelspec": {
   "display_name": "Python 3",
   "language": "python",
   "name": "python3"
  },
  "language_info": {
   "codemirror_mode": {
    "name": "ipython",
    "version": 3
   },
   "file_extension": ".py",
   "mimetype": "text/x-python",
   "name": "python",
   "nbconvert_exporter": "python",
   "pygments_lexer": "ipython3",
   "version": "3.8.6"
  }
 },
 "nbformat": 4,
 "nbformat_minor": 4
}
