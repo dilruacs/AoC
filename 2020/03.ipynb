{
 "cells": [
  {
   "cell_type": "code",
   "execution_count": null,
   "metadata": {},
   "outputs": [],
   "source": [
    "from aocd.models import Puzzle\n",
    "from functools import reduce\n",
    "import sys\n",
    "\n",
    "puzzle=Puzzle(year=2020, day=3)"
   ]
  },
  {
   "cell_type": "code",
   "execution_count": null,
   "metadata": {},
   "outputs": [],
   "source": [
    "paths    = [(1, 1), (3, 1), (5, 1), (7, 1), (1, 2)]"
   ]
  },
  {
   "cell_type": "code",
   "execution_count": null,
   "metadata": {},
   "outputs": [],
   "source": [
    "def walkmap(forest, path):\n",
    "    trees = 0\n",
    "    x = 0\n",
    "    y = 0\n",
    "\n",
    "    while y < len(forest):\n",
    "        trees += (forest[y][x%len(forest[y])] == '#')\n",
    "        x+=path[0]\n",
    "        y+=path[1]\n",
    "    return trees"
   ]
  },
  {
   "cell_type": "code",
   "execution_count": null,
   "metadata": {},
   "outputs": [],
   "source": [
    "# correct: 736527114\n",
    "print(reduce((lambda x,y: x*y), [ walkmap(puzzle.input_data.split('\\n'), path) for path in paths ]))"
   ]
  }
 ],
 "metadata": {
  "kernelspec": {
   "display_name": "Python 3",
   "language": "python",
   "name": "python3"
  },
  "language_info": {
   "codemirror_mode": {
    "name": "ipython",
    "version": 3
   },
   "file_extension": ".py",
   "mimetype": "text/x-python",
   "name": "python",
   "nbconvert_exporter": "python",
   "pygments_lexer": "ipython3",
   "version": "3.8.6"
  }
 },
 "nbformat": 4,
 "nbformat_minor": 4
}
