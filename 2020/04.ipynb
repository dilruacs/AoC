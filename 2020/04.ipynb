{
 "cells": [
  {
   "cell_type": "code",
   "execution_count": null,
   "metadata": {},
   "outputs": [],
   "source": [
    "from aocd.models import Puzzle\n",
    "import re\n",
    "\n",
    "puzzle=Puzzle(year=2020, day=4)"
   ]
  },
  {
   "cell_type": "code",
   "execution_count": null,
   "metadata": {},
   "outputs": [],
   "source": [
    "fields = \"\"\"\n",
    "byr (Birth Year)\n",
    "iyr (Issue Year)\n",
    "eyr (Expiration Year)\n",
    "hgt (Height)\n",
    "hcl (Hair Color)\n",
    "ecl (Eye Color)\n",
    "pid (Passport ID)\n",
    "cid (Country ID)\n",
    "\"\"\""
   ]
  },
  {
   "cell_type": "code",
   "execution_count": null,
   "metadata": {},
   "outputs": [],
   "source": [
    "eyecolor = \"amb blu brn gry grn hzl oth\""
   ]
  },
  {
   "cell_type": "code",
   "execution_count": null,
   "metadata": {},
   "outputs": [],
   "source": [
    "example = \"\"\"\n",
    "ecl:gry pid:860033327 eyr:2020 hcl:#fffffd\n",
    "byr:1937 iyr:2017 cid:147 hgt:183cm\n",
    "\n",
    "iyr:2013 ecl:amb cid:350 eyr:2023 pid:028048884\n",
    "hcl:#cfa07d byr:1929\n",
    "\n",
    "hcl:#ae17e1 iyr:2013\n",
    "eyr:2024\n",
    "ecl:brn pid:760753108 byr:1931\n",
    "hgt:179cm\n",
    "\n",
    "hcl:#cfa07d eyr:2025 pid:166559648\n",
    "iyr:2011 ecl:brn hgt:59in\n",
    "\"\"\""
   ]
  },
  {
   "cell_type": "code",
   "execution_count": null,
   "metadata": {},
   "outputs": [],
   "source": [
    "fields_ = dict(p.split(' ',1) for p in fields.strip().split('\\n'))\n",
    "input_  = [dict(e.split(':') for e in p) for p in [x.split() for x in puzzle.input_data.split('\\n\\n')]]"
   ]
  },
  {
   "cell_type": "code",
   "execution_count": null,
   "metadata": {},
   "outputs": [],
   "source": [
    "solution = 0\n",
    "for p in input_:\n",
    "    diff = set(fields_.keys()).difference(set(p.keys()))\n",
    "    solution += (len(diff) == 0 or diff == {'cid'})\n",
    "print(solution)"
   ]
  },
  {
   "cell_type": "code",
   "execution_count": null,
   "metadata": {},
   "outputs": [],
   "source": [
    "byr = lambda x : (1920 <= int(x) <= 2002)\n",
    "iyr = lambda x : (2010 <= int(x) <= 2020)\n",
    "eyr = lambda x : (2020 <= int(x) <= 2030)\n",
    "hgt = lambda x : (re.match(\"\\d{3}cm\", x) and 150 <= int(x.replace('cm','')) <= 193) or (re.match(\"\\d{2}in\", x) and 59 <= int(x.replace('in','')) <= 76)\n",
    "hcl = lambda x : (re.match(\"#[0-9a-f]{6}$\", x))\n",
    "ecl = lambda x : x in set(eyecolor.strip().split())\n",
    "pid = lambda x : (re.match(\"\\d{9}$\", x))\n",
    "cid = lambda x : True"
   ]
  },
  {
   "cell_type": "code",
   "execution_count": null,
   "metadata": {},
   "outputs": [],
   "source": [
    "solution = 0\n",
    "for p in input_:\n",
    "    valid = False\n",
    "    diff  = set(fields_.keys()).difference(set(p.keys()))\n",
    "    if len(diff) == 0 or diff == {'cid'}:\n",
    "        valid = True\n",
    "        for f in p:\n",
    "            if not globals()[f](p[f]):\n",
    "                valid = False\n",
    "                break\n",
    "    if valid:\n",
    "        solution += 1\n",
    "print(solution)"
   ]
  }
 ],
 "metadata": {
  "kernelspec": {
   "display_name": "Python 3",
   "language": "python",
   "name": "python3"
  },
  "language_info": {
   "codemirror_mode": {
    "name": "ipython",
    "version": 3
   },
   "file_extension": ".py",
   "mimetype": "text/x-python",
   "name": "python",
   "nbconvert_exporter": "python",
   "pygments_lexer": "ipython3",
   "version": "3.8.6"
  }
 },
 "nbformat": 4,
 "nbformat_minor": 4
}
